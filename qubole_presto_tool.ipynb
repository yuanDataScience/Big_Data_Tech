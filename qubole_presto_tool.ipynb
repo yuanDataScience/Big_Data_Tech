{
 "cells": [
  {
   "cell_type": "markdown",
   "metadata": {},
   "source": [
    "# Tool for Executing Presto Query on Qubole\n",
    "Author: Yuan Huang\n",
    "\n",
    "## Introduction\n",
    "Qubole is a convenient platform to query big data. It manages clusters with automatic tuning of the number of the nodes in the cluster, and allows a variety of big data techniques to be operated including persto, hive queries, and spark. This notebook contains a function for running presto query on qubole and fetching the results to pandas dataframe. Usually, result datasets smaller than 20 MB can be download directly from qubole interface as csv files, however, for bigger result dataset, it is not that straightforward. The get_results() method of PrestoCommand class of qds_sdk package allows the download of bigger result files from qubole, as shown in the [following reference](https://github.com/qubole/qds-sdk-py/blob/master/qds_sdk/commands.py). This method was used in the get_pandas_df() function in this notebook for fetching large result dataset directly to pandas dataframe. For the details of the python implementation of qds_sdk, please refer to the [following link](https://github.com/qubole/qds-sdk-py/blob/master/qds_sdk/commands.py)  "
   ]
  },
  {
   "cell_type": "code",
   "execution_count": 2,
   "metadata": {},
   "outputs": [],
   "source": [
    "# Import  Packages\n",
    "import pandas as pd\n",
    "import os\n",
    "\n",
    "from qds_sdk.qubole import Qubole\n",
    "from qds_sdk.commands import PrestoCommand"
   ]
  },
  {
   "cell_type": "code",
   "execution_count": 3,
   "metadata": {},
   "outputs": [],
   "source": [
    "import os\n",
    "aws_access_key=os.environ[\"AWS_KEY\"]\n",
    "aws_access_secret_key=os.getenv(\"AWS_SECRET_KEY\")\n",
    "quoble_token=os.getenv(\"TOKEN\")"
   ]
  },
  {
   "cell_type": "code",
   "execution_count": 5,
   "metadata": {},
   "outputs": [],
   "source": [
    "import os\n",
    "Qubole.configure(api_token = quoble_token) \n",
    "\n",
    "def write_headers(qlog,fp):\n",
    "    \"\"\"\n",
    "    This function writes the column names to a BytesIO object\n",
    "    The method is avalilabe in qds_sdk package github link, as\n",
    "    shown in the introduction section\n",
    "    \n",
    "    Inputs:\n",
    "      qlog: a log object\n",
    "      fp: a BytesIO object\n",
    "    Output:\n",
    "    None. column names in log is written to fp\n",
    "    \"\"\"\n",
    "    col_names = []\n",
    "    qlog = json.loads(qlog)\n",
    "    if qlog[\"QBOL-QUERY-SCHEMA\"] is not None:\n",
    "        qlog_hash = qlog[\"QBOL-QUERY-SCHEMA\"][list(qlog[\"QBOL-QUERY-SCHEMA\"].keys())[0]]\n",
    "\n",
    "        for qlog_item in qlog_hash:\n",
    "            col_names.append(qlog_item[\"ColumnName\"])\n",
    "\n",
    "        col_names = \"\\t\".join(col_names)\n",
    "        col_names += \"\\n\"\n",
    "\n",
    "    fp.write(col_names.encode('utf-8'))\n",
    "\n",
    "def get_pandas_df(query_string, cluster_label='progessive'):\n",
    "   \n",
    "    # initiate a PrestoCommand obj\n",
    "    cmd = PrestoCommand.run(query=query_string, label=cluster_label)\n",
    "   \n",
    "    if PrestoCommand.is_success(cmd.status):\n",
    "        # if the query executes successfully, write the column names\n",
    "        buf = io.BytesIO()\n",
    "        write_headers(cmd.qlog, buf)\n",
    "        \n",
    "        # write results to BytesIO, then to pandas\n",
    "        cmd.get_results(buf, delim='\\t', inline = False, qlog = cmd.qlog)\n",
    "        buf.seek(0)\n",
    "        df = pd.read_csv(buf, delimiter='\\t', na_values='\\\\N')\n",
    "        buf.close()\n",
    "        \n",
    "        return df\n",
    "    else:\n",
    "        raise Exception()"
   ]
  }
 ],
 "metadata": {
  "kernelspec": {
   "display_name": "Python 3",
   "language": "python",
   "name": "python3"
  },
  "language_info": {
   "codemirror_mode": {
    "name": "ipython",
    "version": 3
   },
   "file_extension": ".py",
   "mimetype": "text/x-python",
   "name": "python",
   "nbconvert_exporter": "python",
   "pygments_lexer": "ipython3",
   "version": "3.6.6"
  }
 },
 "nbformat": 4,
 "nbformat_minor": 2
}

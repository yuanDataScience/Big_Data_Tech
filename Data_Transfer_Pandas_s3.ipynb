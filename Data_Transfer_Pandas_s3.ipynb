{
 "cells": [
  {
   "cell_type": "markdown",
   "metadata": {},
   "source": [
    "# Data Transfer between Pandas Dataframes, local files and AWS s3\n",
    "Author: Yuan Huang\n",
    "\n",
    "This section includes some routine functions to transfer data from pandas dataframes or local files to AWS s3, and transfer data from s3 to pandas dataframe. I used the gzip to compress the data in pandas dataframe before data transfer, and uncompress the data when reading data from s3 to dataframes. For local file transfer to s3 implemented in file_to_s3() function, the file was directly transferred to s3."
   ]
  },
  {
   "cell_type": "code",
   "execution_count": 257,
   "metadata": {},
   "outputs": [],
   "source": [
    "import pandas as pd\n",
    "import os\n",
    "from io import BytesIO\n",
    "from io import StringIO\n",
    "import boto3\n",
    "import gzip\n",
    "\n",
    "\n",
    "def df_to_s3(session,df, bucket_name, s3_path,file_key):\n",
    "    \"\"\"\n",
    "    This function transfer the data from pandas dataframe to AWS s3\n",
    "    \n",
    "    Inputs:\n",
    "      session:     An AWS session object\n",
    "      df:          A pandas dataframe containing the data for transfer\n",
    "      bucket_name: s3 bucket name\n",
    "      s3_path:     s3 path\n",
    "      file_key:    file name on s3\n",
    "    Output:\n",
    "      None. The data is saved in the designated s3 bucket, s3 path and file name\n",
    "    \"\"\"\n",
    "    \n",
    "    # write the dataframe data to a stringIO\n",
    "    csv_buffer = io.StringIO()\n",
    "    df.to_csv(csv_buffer, index=False)\n",
    "    \n",
    "    # write the stringIO to BytesIO using gzip\n",
    "    csv_buffer.seek(0)\n",
    "    gz_buffer=io.BytesIO()\n",
    "    \n",
    "    with gzip.GzipFile(mode='w',fileobj=gz_buffer) as gz_file:\n",
    "        gz_file.write(bytes(csv_buffer.getvalue(),'utf-8'))\n",
    "        \n",
    "    # initialize s3 resouce object and save the results from BytesIO to designated\n",
    "    # s3 location\n",
    "    s3_resource = session.resource('s3')\n",
    "    s3_resource.Object(bucket_name, s3_path+file_key).put(Body=gz_buffer.getvalue())\n",
    "    \n",
    "def s3_to_df(session,bucket_name,key,header=None):\n",
    "    \"\"\"\n",
    "     This function transfer the data from AWS s3 to pandas dataframe \n",
    "    \n",
    "    Inputs:\n",
    "      session:     An AWS session object\n",
    "      bucket_name: s3 bucket name\n",
    "      key:         file name on s3\n",
    "      header:      if s3 file has header (None as default, or 'infer') \n",
    "    Output:\n",
    "      A pandas dataframe that contains data in the designated s3 location\n",
    "    \"\"\"\n",
    "    s3_resource=session.resource('s3')\n",
    "    gz=gzip.GzipFile(fileobj=s3_resource.Object(bucket_name, key).get()['Body'])\n",
    "    return pd.read_csv(gz,header=header)\n",
    "\n",
    "def file_to_s3(session,bucket,key,localfile):\n",
    "    \"\"\"\n",
    "     This function transfer the data from a local file to pandas dataframe \n",
    "    \n",
    "    Inputs:\n",
    "      session:     An AWS session object\n",
    "      bucket_name: s3 bucket name\n",
    "      key:         file name on s3\n",
    "      localfile:   location and name of the local file for transfer \n",
    "    Output:\n",
    "      None. The local file is transferred to the designated s3 location\n",
    "    \"\"\"\n",
    "    s3_resource = session.resource('s3')\n",
    "    s3_resource.Object(bucket, key).put(Body=open(localfile, 'rb'))\n",
    "        "
   ]
  },
  {
   "cell_type": "code",
   "execution_count": null,
   "metadata": {},
   "outputs": [],
   "source": [
    "s3_to_df(session,bucket_name,s3_path+\"test_gz1.csv\",\"infer\")"
   ]
  },
  {
   "cell_type": "code",
   "execution_count": 258,
   "metadata": {},
   "outputs": [],
   "source": [
    "file_to_s3(session,bucket_name,s3_path+\"transfer_file\",\"four_hour_June.csv\")"
   ]
  }
 ],
 "metadata": {
  "kernelspec": {
   "display_name": "Python 3",
   "language": "python",
   "name": "python3"
  },
  "language_info": {
   "codemirror_mode": {
    "name": "ipython",
    "version": 3
   },
   "file_extension": ".py",
   "mimetype": "text/x-python",
   "name": "python",
   "nbconvert_exporter": "python",
   "pygments_lexer": "ipython3",
   "version": "3.6.6"
  }
 },
 "nbformat": 4,
 "nbformat_minor": 2
}
